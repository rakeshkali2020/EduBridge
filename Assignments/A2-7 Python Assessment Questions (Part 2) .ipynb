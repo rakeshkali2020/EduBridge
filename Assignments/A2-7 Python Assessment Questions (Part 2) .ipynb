{
 "cells": [
  {
   "cell_type": "markdown",
   "metadata": {},
   "source": [
    "# Programs using Python functions and conditional statements:-"
   ]
  },
  {
   "cell_type": "markdown",
   "metadata": {},
   "source": [
    "# Q1) Write a program to print even and odd numbers."
   ]
  },
  {
   "cell_type": "code",
   "execution_count": 6,
   "metadata": {},
   "outputs": [
    {
     "name": "stdout",
     "output_type": "stream",
     "text": [
      "Your first 20 odd numbers are:\n",
      "1\n",
      "3\n",
      "5\n",
      "7\n",
      "9\n",
      "11\n",
      "13\n",
      "15\n",
      "17\n",
      "19\n",
      "===========================\n",
      "Your first 20 even numbers are:\n",
      "2\n",
      "4\n",
      "6\n",
      "8\n",
      "10\n",
      "12\n",
      "14\n",
      "16\n",
      "18\n",
      "20\n"
     ]
    }
   ],
   "source": [
    "# Program that prints first 20 Odd Numbers:\n",
    "# To take input from user, uncomment the next line of code\n",
    "\n",
    "#num = int(input(\"Enter a number here: \"))\n",
    "num = 1\n",
    "\n",
    "print (\"Your first 20 odd numbers are:\")\n",
    "while num <= 20:\n",
    "    if (num % 2 != 0):\n",
    "        print(num)\n",
    "    num = num+1\n",
    "    \n",
    "print (\"===========================\")\n",
    "    \n",
    "# Program that prints first 20 Even Numbers:\n",
    "#i = int(input(\"Enter a number here: \"))\n",
    "\n",
    "i = 1\n",
    "\n",
    "print (\"Your first 20 even numbers are:\")\n",
    "while i <= 20:\n",
    "    if (i % 2 == 0):\n",
    "        print(i)\n",
    "    i = i+1"
   ]
  },
  {
   "cell_type": "markdown",
   "metadata": {},
   "source": [
    "# Q2) Write a program to check a leap year."
   ]
  },
  {
   "cell_type": "code",
   "execution_count": 9,
   "metadata": {},
   "outputs": [
    {
     "name": "stdout",
     "output_type": "stream",
     "text": [
      "2100 is not a leap year\n"
     ]
    }
   ],
   "source": [
    "# To take year as a input from user, uncomment the next line of code.\n",
    "#year = int(input(\"Enter a year: \")) \n",
    "\n",
    "year = 2100\n",
    "\n",
    "if (year % 4) == 0:  \n",
    "   if (year % 100) == 0:  \n",
    "       if (year % 400) == 0:  \n",
    "           print(year, \"is a leap year\")  \n",
    "       else:  \n",
    "           print(year ,\"is not a leap year\")  \n",
    "   else:  \n",
    "       print(year, \"is a leap year\")  \n",
    "else:  \n",
    "   print(year ,\"is not a leap year\")  "
   ]
  },
  {
   "cell_type": "markdown",
   "metadata": {},
   "source": [
    "# Q3) Write a program to enter a number between 1 to 7 and print the respective day."
   ]
  },
  {
   "cell_type": "code",
   "execution_count": 14,
   "metadata": {},
   "outputs": [
    {
     "name": "stdout",
     "output_type": "stream",
     "text": [
      "5  : It is Friday.\n"
     ]
    }
   ],
   "source": [
    "# To take year as a input from user, uncomment the next line of code.\n",
    "\n",
    "#day = int(input(\"Enter the desire date: \"))\n",
    "\n",
    "day = 5\n",
    "\n",
    "if day == 1:\n",
    "    print (day, \" : It is Monday.\")\n",
    "elif day == 2:\n",
    "    print (day, \" : It is Tuesday.\")\n",
    "elif day == 3:\n",
    "    print (day, \" : It is Wednesday.\")\n",
    "elif day == 4:\n",
    "    print (day, \" : It is Thursday.\")\n",
    "elif day == 5:\n",
    "    print (day, \" : It is Friday.\")\n",
    "elif day == 6:\n",
    "    print (day, \" : It is Saturday.\")\n",
    "elif day == 7:\n",
    "    print (day, \" : It is Sunday.\")\n",
    "else:\n",
    "    print (\"It is not a day! Try between 1 to 7.\")"
   ]
  },
  {
   "cell_type": "markdown",
   "metadata": {},
   "source": [
    "# Q4) Write a program to calculate the grades of a student based on a given criteria given below."
   ]
  },
  {
   "cell_type": "markdown",
   "metadata": {},
   "source": [
    "### Marking Scheme for a Student.\n",
    "#### ---------------------------------------------------\n",
    "#### if marks > 90 |         assign grade A  \n",
    "#### if marks > 75 |         assign grade B  \n",
    "#### if marks > 65 |         assign grade C   \n",
    "#### if marks > 55 |         assign grade D  \n",
    "#### otherwise      |         student failed  "
   ]
  },
  {
   "cell_type": "code",
   "execution_count": 23,
   "metadata": {},
   "outputs": [
    {
     "name": "stdout",
     "output_type": "stream",
     "text": [
      "Enter your name: Rakesh Singh\n",
      "Enter Marks Obtained in 5 Subjects: \n",
      "Your marks in 1st subject: 78\n",
      "Your marks in 2nd subject: 67\n",
      "Your marks in 3rd subject: 89\n",
      "Your marks in 4th subject: 69\n",
      "Your marks in 5th subject: 98\n",
      "\n",
      "\n",
      "========= Y O U R  F I N A L  S C O R E ==============\n",
      "Your average is 80.2 Grade is B\n"
     ]
    }
   ],
   "source": [
    "# Python Program to Calculate Grade of Student\n",
    "\n",
    "name = str(input(\"Enter your name: \"))\n",
    "print(\"Enter Marks Obtained in 5 Subjects: \")\n",
    "\n",
    "sub1 = int(input(\"Your marks in 1st subject: \"))\n",
    "sub2 = int(input(\"Your marks in 2nd subject: \"))\n",
    "sub3 = int(input(\"Your marks in 3rd subject: \"))\n",
    "sub4 = int(input(\"Your marks in 4th subject: \"))\n",
    "sub5 = int(input(\"Your marks in 5th subject: \"))\n",
    "\n",
    "tot = sub1+sub2+sub3+sub4+sub5\n",
    "avg = tot/5\n",
    "\n",
    "print (\"\\n\")\n",
    "print (\"========= Y O U R  F I N A L  S C O R E ==============\")\n",
    "\n",
    "if avg>=90 and avg<=100:\n",
    "    print(\"Your average is\", avg, \" Grade is A\")\n",
    "elif avg>=75 and avg<89:\n",
    "    print(\"Your average is\", avg, \"Grade is B\")\n",
    "elif avg>=65 and avg<74:\n",
    "    print(\"Your average is\", avg, \"Grade is C\")\n",
    "elif avg>=55 and avg<64:\n",
    "    print(\"Your average is\", avg, \"Grade is D\")\n",
    "else:\n",
    "    print(\"YOU FAILED.\")"
   ]
  },
  {
   "cell_type": "markdown",
   "metadata": {},
   "source": [
    "# Q5) Write a program to calculate area of four shapes using menu driven program."
   ]
  },
  {
   "cell_type": "code",
   "execution_count": null,
   "metadata": {},
   "outputs": [
    {
     "name": "stdout",
     "output_type": "stream",
     "text": [
      "Calculate Shape Area:\n",
      "Enter the name of shape whose area you want to find: Circle\n"
     ]
    }
   ],
   "source": [
    "# define a function for calculating the area of a shapes\n",
    "def calculate_area(name):\\\n",
    "    \n",
    "  # converting all characters into lower cases\n",
    "  name = name.lower()\n",
    "    \n",
    "  # check for the conditions\n",
    "  if name == \"rectangle\":\n",
    "    l = int(input(\"Enter rectangle's length: \"))\n",
    "    b = int(input(\"Enter rectangle's breadth: \"))\n",
    "      \n",
    "    # calculate area of rectangel\n",
    "    rect_area = l * b\n",
    "    print(f\"The area of rectangle is {rect_area}.\")\n",
    "    \n",
    "  elif name == \"square\":\n",
    "    s = int(input(\"Enter square's side: \"))\n",
    "        \n",
    "    # calculate area of square\n",
    "    sqt_area = s * s\n",
    "    print(f\"The area of square is\", sqt_area)\n",
    "  \n",
    "  elif name == \"triangle\":\n",
    "    h = int(input(\"Enter triangle's height: \"))\n",
    "    b = int(input(\"Enter triangle's base: \"))\n",
    "        \n",
    "    # calculate area of triangle\n",
    "    tri_area = 0.5 * b * h\n",
    "    print(f\"The area of triangle is\", tri_area)\n",
    "  \n",
    "  elif name == \"circle\":\n",
    "    r = int(input(\"Enter circle's radius: \"))\n",
    "    pi = 3.14\n",
    "          \n",
    "    # calculate area of circle\n",
    "    circ_area = pi * r * r\n",
    "    print(f\"The area of triangle is\", circ_area)\n",
    "          \n",
    "  elif name == 'parallelogram':\n",
    "    b = int(input(\"Enter parallelogram's base: \"))\n",
    "    h = int(input(\"Enter parallelogram's height: \"))\n",
    "      \n",
    "    # calculate area of parallelogram\n",
    "    para_area = b * h\n",
    "    print(f\"The area of parallelogram is\", para_area)\n",
    "      \n",
    "  else:\n",
    "    print(\"Sorry! This shape is not availabel or you might have misspelled something. Try Again!\")\n",
    "    \n",
    "# driver code\n",
    "if __name__ == \"__main__\" :\n",
    "  \n",
    "  print(\"Calculate Shape Area:\")\n",
    "  shape_name = input(\"Enter the name of shape whose area you want to find: \")\n",
    "    \n",
    "  # function calling\n",
    "  calculate_area(shape_name)"
   ]
  },
  {
   "cell_type": "markdown",
   "metadata": {},
   "source": [
    "# Q6) Calculate the electricity bill for a consumer based on some given conditions given below:"
   ]
  },
  {
   "cell_type": "markdown",
   "metadata": {},
   "source": [
    "###                Consumption Criteria                 \n",
    "#### --------------------------------------------------------------------------\n",
    "#### for first 100 per units           |       Rs. 1 per unit    \n",
    "#### for next per  100 units         |        Rs. 1.5 per unit  \n",
    "#### for next per 100 units          |        Rs. 2 per unit    \n",
    "#### for next per 100 units          |        Rs. 3 per unit    \n",
    "#### -------------------------------------------------------------------------"
   ]
  },
  {
   "cell_type": "code",
   "execution_count": 2,
   "metadata": {},
   "outputs": [
    {
     "name": "stdout",
     "output_type": "stream",
     "text": [
      "Enter your name first: Rakesh Singh\n",
      "Number of unit consumed: 567\n",
      "\n",
      " ________ D E T A I L E D  B R E A K D O W N _____________\n",
      "\n",
      " Consumer's Name:  Rakesh Singh\n",
      "\n",
      " You have consumed 567 units in last 2 months.\n",
      "\n",
      " Electicity bill:  1251.0\n",
      "\n",
      " Note: The payment must be made withing next 15 days of receiving bill otherwise a fine of Rs. 2000/- will be imposed on the customer.\n"
     ]
    }
   ],
   "source": [
    "# Program for calculating electricity bill in Python using 'AND' operator\n",
    "\n",
    "name = str(input(\"Enter your name first: \"))\n",
    "\n",
    "units=int(input(\"Number of unit consumed: \"))\n",
    "\n",
    "print (\"\\n ________ D E T A I L E D  B R E A K D O W N _____________\")\n",
    "\n",
    "#units = 450\n",
    "\n",
    "if(units>0 and units<=100):                            # for first 100 units\n",
    "    payAmount=units*1\n",
    "    \n",
    "elif(units>100 and units<=200):                        # for units between 100 and 200\n",
    "    payAmount=(100*1)+(units-100)*1.5\n",
    "    \n",
    "elif(units>200 and units<=300):                        # for units between 200 and 300\n",
    "    payAmount=(100*1)+(100*1.5)+(units-200)*2\n",
    "    \n",
    "else:                                                  # for units greater than 300\n",
    "    payAmount=(100*1)+(100*1.5)+(100*2)+(units-300)*3\n",
    "    \n",
    "Total= payAmount\n",
    "\n",
    "print(\"\\n Consumer's Name: \", name);\n",
    "print (\"\\n You have consumed\", units, \"units in last 2 months.\" )\n",
    "print(\"\\n Electicity bill: \", Total);\n",
    "print(\"\\n Note: The payment must be made withing next 15 days of receiving bill otherwise a fine of Rs. 2000/- will be imposed on the customer.\")"
   ]
  },
  {
   "cell_type": "markdown",
   "metadata": {},
   "source": [
    "# Q7) Write a program to print numbers in ascending order without using loops."
   ]
  },
  {
   "cell_type": "code",
   "execution_count": 1,
   "metadata": {},
   "outputs": [
    {
     "name": "stdout",
     "output_type": "stream",
     "text": [
      "Input first number: 4\n",
      "Input second number: 5\n",
      "Input third number: 6\n",
      "Numbers in sorted order:  4 5 6\n"
     ]
    }
   ],
   "source": [
    "x = int(input(\"Input first number: \"))\n",
    "y = int(input(\"Input second number: \"))\n",
    "z = int(input(\"Input third number: \"))\n",
    "\n",
    "a1 = min(x, y, z)\n",
    "a3 = max(x, y, z)\n",
    "a2 = (x + y + z) - a1 - a3\n",
    "print(\"Numbers in ascending order: \", a1, a2, a3)"
   ]
  }
 ],
 "metadata": {
  "kernelspec": {
   "display_name": "Python 3",
   "language": "python",
   "name": "python3"
  },
  "language_info": {
   "codemirror_mode": {
    "name": "ipython",
    "version": 3
   },
   "file_extension": ".py",
   "mimetype": "text/x-python",
   "name": "python",
   "nbconvert_exporter": "python",
   "pygments_lexer": "ipython3",
   "version": "3.7.4"
  }
 },
 "nbformat": 4,
 "nbformat_minor": 2
}
