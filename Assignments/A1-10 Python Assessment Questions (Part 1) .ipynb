{
 "cells": [
  {
   "cell_type": "markdown",
   "metadata": {},
   "source": [
    "# BASIC PYTHON COMMANDS"
   ]
  },
  {
   "cell_type": "markdown",
   "metadata": {},
   "source": [
    "# Q1) Write a program in Python to add, subtract, multiply and divide two numbers."
   ]
  },
  {
   "cell_type": "code",
   "execution_count": 6,
   "metadata": {},
   "outputs": [
    {
     "name": "stdout",
     "output_type": "stream",
     "text": [
      "112\n",
      "-22\n",
      "3015\n",
      "0.6716417910447762\n"
     ]
    }
   ],
   "source": [
    "#let the two numbers be\n",
    "a = 45\n",
    "b = 67\n",
    "\n",
    "#Addition\n",
    "sum = a+b\n",
    "print(sum)\n",
    "\n",
    "#Subtraction\n",
    "sub = a-b\n",
    "print (sub)\n",
    "\n",
    "#Multiplication\n",
    "mul = a*b\n",
    "print (mul)\n",
    "\n",
    "#Division\n",
    "div = a/b\n",
    "print (div)"
   ]
  },
  {
   "cell_type": "markdown",
   "metadata": {},
   "source": [
    "# Q2) Write a program to calculate the area of circle, rectangle, square and triangle."
   ]
  },
  {
   "cell_type": "raw",
   "metadata": {},
   "source": []
  },
  {
   "cell_type": "code",
   "execution_count": 53,
   "metadata": {},
   "outputs": [
    {
     "name": "stdout",
     "output_type": "stream",
     "text": [
      " Please Enter the radius of a circle: 34\n",
      "The area of Circle is: 7546.0\n",
      "Enter the length of the rectangle: 13\n",
      "Enter the breadth of the rectangle: 45\n",
      "The area of Rectangle is 7546.0\n",
      "Enter the side of Square: 45\n",
      "The area of square is:  2025\n",
      "Enter first side: 12\n",
      "Enter second side: 9\n",
      "Enter third side: 3\n",
      "The area of the triangle is 0.0\n"
     ]
    }
   ],
   "source": [
    "# Area of Circle with Radius.\n",
    "\n",
    "PI = 22/7\n",
    "radius = float(input(' Please Enter the radius of a circle: '))\n",
    "area_of_circle = PI * radius * radius\n",
    "\n",
    "print(\"The area of Circle is:\", area)\n",
    "\n",
    "\n",
    "# Area of Rectangle\n",
    "\n",
    "len = int(input(\"Enter the length of the rectangle: \"))\n",
    "bre = int(input(\"Enter the breadth of the rectangle: \"))\n",
    "area_of_rec = len*bre\n",
    "\n",
    "print (\"The area of Rectangle is\", area)\n",
    "\n",
    "\n",
    "# Area of Square\n",
    "\n",
    "side = int(input(\"Enter the side of Square: \"))\n",
    "area_of_squ = side*side\n",
    "\n",
    "print (\"The area of square is: \", area_of_squ)\n",
    "\n",
    "\n",
    "# Area of Triangle\n",
    "\n",
    "#Uncomment below to take inputs from the user\n",
    "p = int(input('Enter first side: '))\n",
    "q = int(input('Enter second side: '))\n",
    "r = int(input('Enter third side: '))\n",
    "\n",
    "# calculate the semi-perimeter\n",
    "s = (p + q + r) / 2\n",
    "\n",
    "# calculate the area\n",
    "area_of_tri = (s*(s-p)*(s-q)*(s-r)) ** 0.5\n",
    "print(\"The area of the triangle is\", area_of_tri)"
   ]
  },
  {
   "cell_type": "markdown",
   "metadata": {},
   "source": [
    "# Q3) Write a program to swap the two numbers."
   ]
  },
  {
   "cell_type": "code",
   "execution_count": 19,
   "metadata": {},
   "outputs": [
    {
     "name": "stdout",
     "output_type": "stream",
     "text": [
      "The value of x = 10\n",
      "The value of y = 5\n"
     ]
    }
   ],
   "source": [
    "# Let the numbers be\n",
    "x = 5\n",
    "y = 10\n",
    "\n",
    "x, y = y, x\n",
    "print(\"The value of x =\", x)\n",
    "print(\"The value of y =\", y)"
   ]
  },
  {
   "cell_type": "markdown",
   "metadata": {},
   "source": [
    "# Q4) Write a program to find swap two numbers using a third variable"
   ]
  },
  {
   "cell_type": "code",
   "execution_count": 31,
   "metadata": {},
   "outputs": [
    {
     "name": "stdout",
     "output_type": "stream",
     "text": [
      "Enter First Number: 56\n",
      "Enter Second Number: 78\n",
      "Value of x before swapping:  56\n",
      "Value of y before swapping:  78\n",
      "Value of x after swapping:  78\n",
      "Value of y after swapping:  56\n"
     ]
    }
   ],
   "source": [
    "# Let the numbers be x and y\n",
    "\n",
    "x = input('Enter First Number: ')\n",
    "y = input('Enter Second Number: ')\n",
    "\n",
    "print(\"Value of x before swapping: \", x)\n",
    "print(\"Value of y before swapping: \", y)\n",
    "\n",
    "# swapping two numbers using temporary variable\n",
    "temp = x\n",
    "x = y\n",
    "y = temp\n",
    "\n",
    "print(\"Value of x after swapping: \", x)\n",
    "print(\"Value of y after swapping: \", y)"
   ]
  },
  {
   "cell_type": "markdown",
   "metadata": {},
   "source": [
    "# Q5) Write a program to calculate Simple Interest."
   ]
  },
  {
   "cell_type": "code",
   "execution_count": 35,
   "metadata": {},
   "outputs": [
    {
     "name": "stdout",
     "output_type": "stream",
     "text": [
      "Enter a principle Amount: 1000\n",
      "Enter a specific Rate Of Interest: 5\n",
      "For how many years: 6\n",
      "The Simple interest is 300.0\n"
     ]
    }
   ],
   "source": [
    "# Let the principle be Rs.1000, ROI = 2 and Time = 2 years.\n",
    "\n",
    "#Simple Interest Formula :SI = (P * R * T) / 100\n",
    "\n",
    "p = int(input(\"Enter a principle Amount: \"))\n",
    "r = int(input(\"Enter a specific Rate Of Interest: \"))\n",
    "t = int(input(\"For how many years: \"))\n",
    "SI = (p*r*t)/100\n",
    "\n",
    "print(\"The Simple interest is\", SI)"
   ]
  },
  {
   "cell_type": "markdown",
   "metadata": {},
   "source": [
    "# Q6) Write a program to calculate the average of five numbers."
   ]
  },
  {
   "cell_type": "code",
   "execution_count": 38,
   "metadata": {},
   "outputs": [
    {
     "name": "stdout",
     "output_type": "stream",
     "text": [
      "Enter the first number: 3\n",
      "Enter the second number: 4\n",
      "Enter the third number: 5\n",
      "Enter the fourth number: 5\n",
      "Enter the fifth number: 6\n",
      "The average of your five numbers is:  4.6\n"
     ]
    }
   ],
   "source": [
    "# Let the five numbers\n",
    "\n",
    "num1 = int(input(\"Enter the first number: \"))\n",
    "num2 = int(input(\"Enter the second number: \"))\n",
    "num3 = int(input(\"Enter the third number: \"))\n",
    "num4 = int(input(\"Enter the fourth number: \"))\n",
    "num5 = int(input(\"Enter the fifth number: \"))\n",
    "\n",
    "# Formula for calculating average: (sum of obs./ total number of obs.)\n",
    "\n",
    "avg = (num1+num2+num3+num4+num5)/5\n",
    "print (\"The average of your five numbers is: \", avg)"
   ]
  },
  {
   "cell_type": "markdown",
   "metadata": {},
   "source": [
    "# Q7)Write a program to reverse the two digit number."
   ]
  },
  {
   "cell_type": "code",
   "execution_count": 42,
   "metadata": {},
   "outputs": [
    {
     "name": "stdout",
     "output_type": "stream",
     "text": [
      "Enter the integer number: 45\n",
      "The reverse number is : 54\n"
     ]
    }
   ],
   "source": [
    "# Ask for enter the number to reverse\n",
    "\n",
    "#Note: This code uses WHILE LOOP to reverse the given number.\n",
    "\n",
    "number = int(input(\"Enter the integer number: \"))  \n",
    "  \n",
    "# Initiate value to null  \n",
    "revs_number = 0  \n",
    "  \n",
    "# reverse the integer number using the while loop  \n",
    "  \n",
    "while (number > 0):  \n",
    "    # Logic  \n",
    "    remainder = number % 10  \n",
    "    revs_number = (revs_number * 10) + remainder  \n",
    "    number = number // 10  \n",
    "  \n",
    "# Display the result  \n",
    "print(\"The reverse number is :\", revs_number)"
   ]
  },
  {
   "cell_type": "markdown",
   "metadata": {},
   "source": [
    "# Q8) Write a program that uses Discriminant."
   ]
  },
  {
   "cell_type": "code",
   "execution_count": 44,
   "metadata": {},
   "outputs": [
    {
     "name": "stdout",
     "output_type": "stream",
     "text": [
      "Please Enter the 1st value point a: 5\n",
      "Please Enter the 2nd value point b: 6\n",
      "Please Enter the 3rd value point c: 25\n",
      "The value of Discriminent is:  -464\n"
     ]
    }
   ],
   "source": [
    "#create  a function to calculate the Discriminant value of given points.\n",
    "\n",
    "#Take 3 point's as a input value \n",
    "a = int(input('Please Enter the 1st value point a: '))\n",
    "b = int(input('Please Enter the 2nd value point b: '))\n",
    "c = int(input('Please Enter the 3rd value point c: '))\n",
    "   \n",
    "#calculate the Discriminant value.\n",
    "dis = (b**2) - (4*a*c)\n",
    "print (\"The value of Discriminent is: \", dis)"
   ]
  },
  {
   "cell_type": "markdown",
   "metadata": {},
   "source": [
    "# Q9) Write a program to find the volumes of a cone, cuboid and cylinder."
   ]
  },
  {
   "cell_type": "code",
   "execution_count": 48,
   "metadata": {},
   "outputs": [
    {
     "name": "stdout",
     "output_type": "stream",
     "text": [
      "Please Enter the Radius of a Cone: 7\n",
      "Please Enter the Height of a Cone: 49\n",
      "The volume of Cone is:  2515.3333333333335\n",
      "Please Enter the Length of a Cuboid: 13\n",
      "Please Enter the Width of a Cuboid: 24\n",
      "Please Enter the Height of a Cuboid: 45\n",
      "The Volume Of Cuboid is:  14040\n",
      "Please Enter the Radius of a Cylinder: 49\n",
      "Please Enter the Height of a Cylinder: 343\n",
      "The Volume of Cylinder is:  2588278.0\n"
     ]
    }
   ],
   "source": [
    "# Let the dimensions of Cone be\n",
    "\n",
    "radius = int(input('Please Enter the Radius of a Cone: '))\n",
    "height = int(input('Please Enter the Height of a Cone: '))\n",
    "\n",
    "# Formula for volume of Cone: Volume = 1/3 πr²h (where h= height of a Cone, and r= radius of cone)\n",
    "vol_of_cone = (1/3) * 22/7 * radius * radius * height\n",
    "\n",
    "print (\"The volume of Cone is: \", vol_of_cone)\n",
    "\n",
    "\n",
    "\n",
    "# Let the dimensions of Cuboid be\n",
    "len = int(input('Please Enter the Length of a Cuboid: '))\n",
    "wid = int(input('Please Enter the Width of a Cuboid: '))\n",
    "hei = int(input('Please Enter the Height of a Cuboid: '))\n",
    "\n",
    "# Calculate the Volume: Volume = length * width * height\n",
    "\n",
    "vol_of_cub = len * wid * hei\n",
    "print (\"The Volume Of Cuboid is: \", vol_of_cub)\n",
    "\n",
    "\n",
    "\n",
    "# Let the dimensions of Cylinder be\n",
    "\n",
    "rad = float(input('Please Enter the Radius of a Cylinder: '))\n",
    "heig = float(input('Please Enter the Height of a Cylinder: '))\n",
    "\n",
    "#Formula for Volume of Cylinder =  πr²h\n",
    "vol_of_cyl = 22/7 * rad * rad * heig\n",
    "print (\"The Volume of Cylinder is: \", vol_of_cyl)"
   ]
  },
  {
   "cell_type": "markdown",
   "metadata": {},
   "source": [
    "# Q10) Write a program to calculate the net salary of an employee whose basic salary is given the user where DA = 10% of salary, HRA = 15% of salary and PF = 7% of salary."
   ]
  },
  {
   "cell_type": "code",
   "execution_count": 52,
   "metadata": {},
   "outputs": [
    {
     "name": "stdout",
     "output_type": "stream",
     "text": [
      "Enter name of employee:Rakesh Singh\n",
      "Enter Basic Salary :1000000\n",
      "\n",
      "\n",
      "\n",
      "S A L A R Y D E T A I L E D B R E A K U P \n",
      "==============================================\n",
      " NAME OF EMPLOYEE :  Rakesh Singh\n",
      " BASIC SALARY :  1000000\n",
      " DEARNESS ALLOW :  100000\n",
      " HOUSE RENT ALLOW :  150000\n",
      " PROVIDENT FUND :  770000\n",
      "==============================================\n",
      " NET SALARY PAY :  2020000\n",
      " PROVIDENT FUND :  770000\n",
      "\n",
      "\n",
      "THANK YOU!\n"
     ]
    }
   ],
   "source": [
    "#Calculate the Gross Salary of an employee for following allowance & deduction.\n",
    "#Get Basic Salary of Employee,\n",
    "#DA = 10% of salary,\n",
    "#HRA = 15% of salary,\n",
    "#PF = 12% of salary,\n",
    "#Net Income = Basic + DA + HRA + PF\n",
    "\n",
    "name= str(input(\"Enter name of employee:\"))\n",
    "basic=int(input(\"Enter Basic Salary :\"))\n",
    "da=int(basic*0.1)\n",
    "hra=int(basic*0.15)\n",
    "pf=int((basic+da)*0.7)\n",
    "netpay=int(basic+da+hra+pf)\n",
    "\n",
    "print(\"\\n\\n\") #it breaks the line\n",
    "print(\"S A L A R Y D E T A I L E D B R E A K U P \")\n",
    "print(\"==============================================\")\n",
    "print(\" NAME OF EMPLOYEE : \",name)\n",
    "print(\" BASIC SALARY : \",basic)\n",
    "print(\" DEARNESS ALLOW : \",da)\n",
    "print(\" HOUSE RENT ALLOW : \",hra)\n",
    "print(\" PROVIDENT FUND : \",pf)\n",
    "print(\"==============================================\")\n",
    "print(\" NET SALARY PAY : \",netpay)\n",
    "print(\" PROVIDENT FUND : \",pf)\n",
    "\n",
    "print(\"\\n\") #it breaks the line\n",
    "print(\"THANK YOU!\")"
   ]
  }
 ],
 "metadata": {
  "kernelspec": {
   "display_name": "Python 3",
   "language": "python",
   "name": "python3"
  },
  "language_info": {
   "codemirror_mode": {
    "name": "ipython",
    "version": 3
   },
   "file_extension": ".py",
   "mimetype": "text/x-python",
   "name": "python",
   "nbconvert_exporter": "python",
   "pygments_lexer": "ipython3",
   "version": "3.7.4"
  }
 },
 "nbformat": 4,
 "nbformat_minor": 2
}
